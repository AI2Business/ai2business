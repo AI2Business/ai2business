{
 "cells": [
  {
   "cell_type": "markdown",
   "metadata": {
    "colab_type": "text"
   },
   "source": [
    "## Runing a small timeseries forecast\n",
    "\n",
    "Before running a time series forecast, the initial data set has to be generated first via oneliner. The online `four_step_search` combines four types of trend search:\n",
    "\n",
    "1. Overtime\n",
    "2. By regions\n",
    "3. By related topics\n",
    "4. By related queries\n",
    "\n",
    "However, this example is only focusing on the dateframe from *Overtime*.\n"
   ]
  },
  {
   "cell_type": "code",
   "execution_count": 0,
   "metadata": {
    "colab_type": "code"
   },
   "outputs": [],
   "source": [
    "!pip install git+https://github.com/AI2Business/ai2business.git\n"
   ]
  },
  {
   "cell_type": "code",
   "execution_count": 0,
   "metadata": {
    "colab_type": "code"
   },
   "outputs": [],
   "source": [
    "from ai2business.macros import oneliner\n"
   ]
  },
  {
   "cell_type": "markdown",
   "metadata": {
    "colab_type": "text"
   },
   "source": [
    "Hence, search trend for the years \"2017\", \"2018\", \"2019\", and \"2020\" will be generated and plotted.\n",
    "\n",
    "### Note\n",
    "\n",
    "A dependency between the years is obviously given, even if single event trigger breakouts.\n"
   ]
  },
  {
   "cell_type": "code",
   "execution_count": 0,
   "metadata": {
    "colab_type": "code"
   },
   "outputs": [],
   "source": [
    "keyword_list: list = [\"2017\", \"2018\", \"2019\", \"2020\"]\n",
    "timeframe = oneliner.TrendSearch.four_step_search(keyword_list=keyword_list)\n",
    "timeframe[\"get_interest_over_time\"].plot()\n"
   ]
  },
  {
   "cell_type": "markdown",
   "metadata": {
    "colab_type": "text"
   },
   "source": [
    "And the Pearson-correlation shows the negative linear dependency between the current and previous year.\n"
   ]
  },
  {
   "cell_type": "code",
   "execution_count": 0,
   "metadata": {
    "colab_type": "code"
   },
   "outputs": [],
   "source": [
    "timeframe[\"get_interest_over_time\"].corr()\n",
    "\n",
    "dataset = timeframe[\"get_interest_over_time\"].drop(columns=\"isPartial\")\n",
    "\n",
    "print(dataset)\n"
   ]
  },
  {
   "cell_type": "markdown",
   "metadata": {
    "colab_type": "text"
   },
   "source": [
    "### Loading the automl modul.\n"
   ]
  },
  {
   "cell_type": "code",
   "execution_count": 0,
   "metadata": {
    "colab_type": "code"
   },
   "outputs": [],
   "source": [
    "from sklearn.model_selection import train_test_split\n",
    "\n",
    "from ai2business.ai_engines import automl_neural_network as an\n"
   ]
  },
  {
   "cell_type": "markdown",
   "metadata": {
    "colab_type": "text"
   },
   "source": [
    "### Setup the Timeseries Forecaster.\n"
   ]
  },
  {
   "cell_type": "code",
   "execution_count": 0,
   "metadata": {
    "colab_type": "code"
   },
   "outputs": [],
   "source": [
    "x_train, y_train, x_test, y_test = train_test_split(\n",
    "    dataset.iloc[:, 0:2].values,\n",
    "    dataset.iloc[:, 3].values,\n",
    "    test_size=0.33,\n",
    "    random_state=42,\n",
    ")\n",
    "context = an.AutoMLPipeline(an.TimeseriesForecaster())\n",
    "context.run_automl()\n"
   ]
  },
  {
   "cell_type": "markdown",
   "metadata": {
    "colab_type": "text"
   },
   "source": [
    "### Fitting the Timeseries Forecaster.\n"
   ]
  },
  {
   "cell_type": "code",
   "execution_count": 0,
   "metadata": {
    "colab_type": "code"
   },
   "outputs": [],
   "source": [
    "context.train = an.AutoMLFit(x_train, y_train, batch_size=32, epochs=1)\n",
    "context.run_automl()\n"
   ]
  },
  {
   "cell_type": "markdown",
   "metadata": {
    "colab_type": "text"
   },
   "source": [
    "### Evaluate the Timeseries Forecaster.\n"
   ]
  },
  {
   "cell_type": "code",
   "execution_count": 0,
   "metadata": {
    "colab_type": "code"
   },
   "outputs": [],
   "source": [
    "context.train = an.AutoMLEvaluate(x_test, y_test, batch_size=32)\n",
    "context.run_automl()\n"
   ]
  }
 ],
 "metadata": {
  "colab": {
   "collapsed_sections": [],
   "name": "timeseries_forecast_tutorial",
   "private_outputs": false,
   "provenance": [],
   "toc_visible": true
  },
  "kernelspec": {
   "display_name": "Python 3",
   "language": "python",
   "name": "python3"
  },
  "language_info": {
   "codemirror_mode": {
    "name": "ipython",
    "version": 3
   },
   "file_extension": ".py",
   "mimetype": "text/x-python",
   "name": "python",
   "nbconvert_exporter": "python",
   "pygments_lexer": "ipython3",
   "version": "3.7.0"
  }
 },
 "nbformat": 4,
 "nbformat_minor": 0
}